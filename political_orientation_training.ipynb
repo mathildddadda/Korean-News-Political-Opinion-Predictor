{
 "cells": [
  {
   "cell_type": "markdown",
   "metadata": {},
   "source": [
    "This notebook pre-processes the data and fine-tunes a pre-trained BERT model for the task of text classification. We follow instructions from the Hugging Face website to fine tune the transformer model which can be found [here](https://huggingface.co/docs/transformers/training). \n",
    "\n",
    "The model we chose was roberta-small, from KLUE (Korean Language Understanding Evaluation) available [here](https://huggingface.co/klue/roberta-small)\n",
    "\n",
    "The dataset we use is the [KoPolitic](https://github.com/Kdavid2355/KoPolitic-Benchmark-Dataset/tree/main) dataset which is comprised of 12,000 korean news articles collected from across six leading newspapers in South Korea. Each example includes two different classifications. First, the political orientation of the article: either conservative, moderate conservative, moderate, moderate liberal, or liberal. Second, the level of pro-government sentiment in the article: either pro-government advocacy, moderate advocacy, moderate, moderate criticism, anti-government criticism or none. \n",
    "\n",
    "The goal of this notebook is to fine-tune the pre-trained model to predict the political orientation of the article."
   ]
  },
  {
   "cell_type": "markdown",
   "metadata": {},
   "source": [
    "# Imports"
   ]
  },
  {
   "cell_type": "code",
   "execution_count": 35,
   "metadata": {},
   "outputs": [],
   "source": [
    "# Here we could do import \"as pd\" to rename the pandas library\n",
    "import pandas\n",
    "# Here we use the alias because this library is long\n",
    "import matplotlib.pyplot as plt\n",
    "from sklearn.model_selection import train_test_split\n",
    "import numpy as np\n",
    "\n",
    "# Torch is machine learning library\n",
    "import torch\n",
    "\n",
    "# Transformers is a library for NLP (Natural Language Processing) made by Hugging Face\n",
    "# AutoTokenizer is a class used to import a tokenizer for a specific model\n",
    "# AutoModelForSequenceClassification is a class used to import a model for a specific task\n",
    "# TrainingArguments is a class used to define the training arguments\n",
    "# Trainer is a class used to train a model\n",
    "from transformers import AutoTokenizer, AutoModelForSequenceClassification, TrainingArguments, Trainer\n",
    "\n",
    "# Datasets is a library for datasets made by Hugging Face\n",
    "from datasets import Dataset\n",
    "\n",
    "# Evaluate is a library to evaluate the model\n",
    "import evaluate\n",
    "import seaborn as sns\n",
    "from sklearn.metrics import accuracy_score, precision_recall_fscore_support"
   ]
  },
  {
   "cell_type": "markdown",
   "metadata": {},
   "source": [
    "In Machine Learning, we usually have 3 steps: \n",
    "- Data Preprocessing: consists of cleaning, analyzing, and preparing data for training the ML models.\n",
    "- Training: consists of training the ML models on the preprocessed data.\n",
    "- Evaluation: consists of testing the trained ML models on new data to evaluate their performance.\n",
    "\n",
    "In this notebook, we will perfom all these steps to analyze and predict the political orientation of the articles."
   ]
  },
  {
   "cell_type": "markdown",
   "metadata": {},
   "source": [
    "# Dataset Analysis and Preprocessing"
   ]
  },
  {
   "cell_type": "markdown",
   "metadata": {},
   "source": [
    "## Importing the dataset\n",
    "\n",
    "We will start by importing the dataset in our code."
   ]
  },
  {
   "cell_type": "code",
   "execution_count": 2,
   "metadata": {},
   "outputs": [
    {
     "name": "stdout",
     "output_type": "stream",
     "text": [
      "   seq                                     title        date  \\\n",
      "0    0     최경환·우병우…TK 연고 '올드보이' 총선 앞두고 정치 재개 움직임  2023-08-03   \n",
      "1    1           미군 '월북' 2주 넘었는데… 북한은 여전히 '침묵' 중  2023-08-03   \n",
      "2    2     [속보] 한 총리 \"새만금 잼버리 참가자 4만명 안전 확보\" 지시   2023-08-03   \n",
      "3    3         김영호 \"납북자·억류자 문제에 확고한 입장으로 대응할 것\"   2023-08-03   \n",
      "4    4  \"충북도 국장, 배우자 일하는 증평군 지표 고쳐 136억원 부당 지원\"   2023-08-03   \n",
      "\n",
      "                                             content  \\\n",
      "0  \\n\\n\\n\\n\\n\\n\\n최경환 전 경제부총리 등 TK(대구·경북)에 연고가 있는 ...   \n",
      "1  \\n\\n\\n\\n\\n\\n\\n지난달 18일 판문점 공동경비구역을 통해 무단 월북한 트래...   \n",
      "2  \\n\\n\\n\\n\\n\\n\\n윤석열 대통령과 김건희 여사가 지난 2일 전북 부안군 새만...   \n",
      "3  \\n\\n\\n\\n\\n\\n\\n김영호 통일부 장관이 3일 서울 종로구 정부서울청사에서 납...   \n",
      "4  \\n\\n\\n\\n\\n\\n\\n감사원 전경 2014.9.2/뉴스1 © News1 이종덕 ...   \n",
      "\n",
      "                              article_url  label1  label2  \n",
      "0  https://www.news1.kr/articles/?5129788       3       0  \n",
      "1  https://www.news1.kr/articles/?5129591       3       0  \n",
      "2  https://www.news1.kr/articles/?5129823       3       3  \n",
      "3  https://www.news1.kr/articles/?5129787       2       4  \n",
      "4  https://www.news1.kr/articles/?5129750       3       0  \n"
     ]
    }
   ],
   "source": [
    "# Import the csv file using pandas\n",
    "# We use the read_csv method from the pandas library\n",
    "# This function takes as input the file path of the csv file\n",
    "train_dataset = pandas.read_csv(\"political_orientation_dataset/kopolitic_train.csv\")\n",
    "test_dataset = pandas.read_csv(\"political_orientation_dataset/kopolitic_test.csv\")\n",
    "\n",
    "# Here we print the first 5 rows of the dataset\n",
    "print(train_dataset.head())"
   ]
  },
  {
   "cell_type": "markdown",
   "metadata": {},
   "source": [
    "We notice that the dataset has 7 columns:\n",
    "- `seq`: the sequence number of the article (we will not use this column and thus delete it)\n",
    "- `title`: the title of the article\n",
    "- `date`: the date of the article\n",
    "- `content`: the content of the article\n",
    "- `article_url`: the url of the article (we will not use this column and thus delete it)\n",
    "- `label1`: the political orientation of the article (our target variable)\n",
    "- `label2`: the level of pro-government sentiment in the article (we will not use this column but we will not delete it to conduct some analysis on it first)"
   ]
  },
  {
   "cell_type": "code",
   "execution_count": 3,
   "metadata": {},
   "outputs": [
    {
     "name": "stdout",
     "output_type": "stream",
     "text": [
      "seq            0\n",
      "title          0\n",
      "date           0\n",
      "content        0\n",
      "article_url    0\n",
      "label1         0\n",
      "label2         0\n",
      "dtype: int64\n",
      "seq            0\n",
      "title          0\n",
      "date           0\n",
      "content        0\n",
      "article_url    0\n",
      "label1         0\n",
      "label2         0\n",
      "dtype: int64\n"
     ]
    }
   ],
   "source": [
    "# First we show which columns has NaNs values\n",
    "print(train_dataset.isnull().sum())\n",
    "print(test_dataset.isnull().sum())"
   ]
  },
  {
   "cell_type": "code",
   "execution_count": 4,
   "metadata": {},
   "outputs": [
    {
     "name": "stdout",
     "output_type": "stream",
     "text": [
      "                                      title        date  \\\n",
      "0     최경환·우병우…TK 연고 '올드보이' 총선 앞두고 정치 재개 움직임  2023-08-03   \n",
      "1           미군 '월북' 2주 넘었는데… 북한은 여전히 '침묵' 중  2023-08-03   \n",
      "2     [속보] 한 총리 \"새만금 잼버리 참가자 4만명 안전 확보\" 지시   2023-08-03   \n",
      "3         김영호 \"납북자·억류자 문제에 확고한 입장으로 대응할 것\"   2023-08-03   \n",
      "4  \"충북도 국장, 배우자 일하는 증평군 지표 고쳐 136억원 부당 지원\"   2023-08-03   \n",
      "\n",
      "                                             content  label1  label2  \n",
      "0  \\n\\n\\n\\n\\n\\n\\n최경환 전 경제부총리 등 TK(대구·경북)에 연고가 있는 ...       3       0  \n",
      "1  \\n\\n\\n\\n\\n\\n\\n지난달 18일 판문점 공동경비구역을 통해 무단 월북한 트래...       3       0  \n",
      "2  \\n\\n\\n\\n\\n\\n\\n윤석열 대통령과 김건희 여사가 지난 2일 전북 부안군 새만...       3       3  \n",
      "3  \\n\\n\\n\\n\\n\\n\\n김영호 통일부 장관이 3일 서울 종로구 정부서울청사에서 납...       2       4  \n",
      "4  \\n\\n\\n\\n\\n\\n\\n감사원 전경 2014.9.2/뉴스1 © News1 이종덕 ...       3       0  \n"
     ]
    }
   ],
   "source": [
    "# Drop the \"seq\" and \"article_url\" columns because they are not useful for the model for both train and test datasets\n",
    "train_dataset = train_dataset.drop(columns=[\"seq\", \"article_url\"])\n",
    "test_dataset = test_dataset.drop(columns=[\"seq\", \"article_url\"])\n",
    "\n",
    "print(train_dataset.head())"
   ]
  },
  {
   "cell_type": "markdown",
   "metadata": {},
   "source": [
    "We notice that not a single row has missing values in both training and testing. We will thus not need to handle missing values in this dataset."
   ]
  },
  {
   "cell_type": "markdown",
   "metadata": {},
   "source": [
    "## Data Analysis\n",
    "\n",
    "We will now proceed to perform some data analysis on the dataset. We aim to plot the distribution of the `date`, `label1`, and `label2` columns. We also want to get an idea of the average length of the articles in the dataset."
   ]
  },
  {
   "cell_type": "code",
   "execution_count": 5,
   "metadata": {},
   "outputs": [],
   "source": [
    "# We define a function named plot_distribution\n",
    "# This function will plot the distribution of a given column in the dataset\n",
    "def plot_distribution(dataset_column, column_name, title, colors):\n",
    "    # inputs: dataset_column, column_name, title\n",
    "    # We first compute the percentage of each source, we use the value_counts method from the pandas library to count the number of occurences of each source\n",
    "    counts = dataset_column.value_counts() # this returns a pandas series with the number of occurences of each variable given in the column\n",
    "    print(counts)\n",
    "\n",
    "    percentage = counts/counts.sum() * 100 # we compute the percentage of each source\n",
    "\n",
    "    # We use matplotlib to plot the distribution\n",
    "    plt.bar(percentage.index, percentage, color=colors, width=0.5, linewidth=1, edgecolor='black')\n",
    "\n",
    "    # We are going to label the exact count of each source on the bars\n",
    "    for i in range(len(percentage)):\n",
    "        # bar_title = str(round(percentage[i], 2)) + \"% (\" + str(counts[i]) + \")\"\n",
    "        bar_title = f\"{round(percentage[i], 2)}% ({counts[i]})\" # Equivalent to above, but using f-string\n",
    "        plt.text(i, percentage[i],  bar_title, ha='center', va='bottom')\n",
    "\n",
    "    plt.ylabel('Percentage')\n",
    "    plt.xlabel(column_name)\n",
    "    plt.title(title)\n",
    "    plt.show()"
   ]
  },
  {
   "cell_type": "markdown",
   "metadata": {},
   "source": [
    "### Distribution of the `date` column"
   ]
  },
  {
   "cell_type": "markdown",
   "metadata": {},
   "source": [
    "We need to isolate the year for each example."
   ]
  },
  {
   "cell_type": "code",
   "execution_count": 6,
   "metadata": {},
   "outputs": [
    {
     "name": "stdout",
     "output_type": "stream",
     "text": [
      "Original Date column:\n",
      "0        2023-08-03\n",
      "1        2023-08-03\n",
      "2        2023-08-03\n",
      "3        2023-08-03\n",
      "4        2023-08-03\n",
      "           ...     \n",
      "4495    2023.05.18.\n",
      "4496    2023.05.18.\n",
      "4497    2023.05.18.\n",
      "4498    2023.05.17.\n",
      "4499    2023.05.17.\n",
      "Name: date, Length: 4500, dtype: object\n"
     ]
    }
   ],
   "source": [
    "print(\"Original Date column:\")\n",
    "print(train_dataset['date'])"
   ]
  },
  {
   "cell_type": "markdown",
   "metadata": {},
   "source": [
    "We notice that some datse are in the format `YYYY-MM-DD` and some are in the format `YYYY.MM.DD`. We will need to handle this."
   ]
  },
  {
   "cell_type": "code",
   "execution_count": 7,
   "metadata": {},
   "outputs": [
    {
     "name": "stdout",
     "output_type": "stream",
     "text": [
      "date\n",
      "2023    4500\n",
      "Name: count, dtype: int64\n"
     ]
    }
   ],
   "source": [
    "year = train_dataset['date'].str.split('-').str[0]\n",
    "year = year.str.split('.').str[0]\n",
    "\n",
    "# CHeck that the obtained year column is not a single value\n",
    "print(year.value_counts())"
   ]
  },
  {
   "cell_type": "markdown",
   "metadata": {},
   "source": [
    "We conclude that all articles were written in the year 2023. We can try to analyze the distribution of the articles over the months."
   ]
  },
  {
   "cell_type": "code",
   "execution_count": 8,
   "metadata": {},
   "outputs": [
    {
     "name": "stdout",
     "output_type": "stream",
     "text": [
      "date\n",
      "07    2253\n",
      "06     453\n",
      "08     289\n",
      "04     254\n",
      "05     187\n",
      "Name: count, dtype: int64\n"
     ]
    },
    {
     "name": "stderr",
     "output_type": "stream",
     "text": [
      "/var/folders/dk/m9d4fkln0d947z3d_fc1m8000000gn/T/ipykernel_19106/3600228608.py:17: FutureWarning: Series.__getitem__ treating keys as positions is deprecated. In a future version, integer keys will always be treated as labels (consistent with DataFrame behavior). To access a value by position, use `ser.iloc[pos]`\n",
      "  bar_title = f\"{round(percentage[i], 2)}% ({counts[i]})\" # Equivalent to above, but using f-string\n",
      "/var/folders/dk/m9d4fkln0d947z3d_fc1m8000000gn/T/ipykernel_19106/3600228608.py:18: FutureWarning: Series.__getitem__ treating keys as positions is deprecated. In a future version, integer keys will always be treated as labels (consistent with DataFrame behavior). To access a value by position, use `ser.iloc[pos]`\n",
      "  plt.text(i, percentage[i],  bar_title, ha='center', va='bottom')\n"
     ]
    },
    {
     "data": {
      "image/png": "[encoded data removed]",
      "text/plain": [
       "<Figure size 640x480 with 1 Axes>"
      ]
     },
     "metadata": {},
     "output_type": "display_data"
    }
   ],
   "source": [
    "month = train_dataset['date'].str.split('-').str[1]\n",
    "month = month.str.split('.').str[0]\n",
    "\n",
    "# CHeck that the obtained month column is not a single value\n",
    "plot_distribution(month, \"Month\", \"Distribution of the month\", ['blue', 'red', 'green', 'purple', 'orange', 'yellow', 'brown', 'pink', 'grey', 'cyan', 'magenta', 'black'])"
   ]
  },
  {
   "cell_type": "markdown",
   "metadata": {},
   "source": [
    "We analyze that most comments were written in the month of July 2023 with 65.57% of the articles."
   ]
  },
  {
   "cell_type": "markdown",
   "metadata": {},
   "source": [
    "### Distribution of the `label1` column"
   ]
  },
  {
   "cell_type": "code",
   "execution_count": 9,
   "metadata": {},
   "outputs": [
    {
     "name": "stdout",
     "output_type": "stream",
     "text": [
      "Original target column (political orientation):\n",
      "0       3\n",
      "1       3\n",
      "2       3\n",
      "3       2\n",
      "4       3\n",
      "       ..\n",
      "4495    3\n",
      "4496    3\n",
      "4497    3\n",
      "4498    4\n",
      "4499    4\n",
      "Name: label1, Length: 4500, dtype: int64\n"
     ]
    }
   ],
   "source": [
    "print(\"Original target column (political orientation):\")\n",
    "print(train_dataset['label1'])"
   ]
  },
  {
   "cell_type": "code",
   "execution_count": 10,
   "metadata": {},
   "outputs": [
    {
     "name": "stdout",
     "output_type": "stream",
     "text": [
      "label1\n",
      "2    1931\n",
      "3    1253\n",
      "1     748\n",
      "0     358\n",
      "4     210\n",
      "Name: count, dtype: int64\n"
     ]
    },
    {
     "data": {
      "image/png": "[encoded data removed]",
      "text/plain": [
       "<Figure size 640x480 with 1 Axes>"
      ]
     },
     "metadata": {},
     "output_type": "display_data"
    }
   ],
   "source": [
    "plot_distribution(train_dataset['label1']-1, \"Political orientation\", \"Distribution of the political orientation\", ['blue', 'red', 'green', 'purple', 'orange'])"
   ]
  },
  {
   "cell_type": "markdown",
   "metadata": {},
   "source": [
    "ON this graph, the label `0` corresponds to `liberal`, `1` corresponds to `moderate liberal`, `2` corresponds to `moderate`, `3` corresponds to `moderate conservative`, and `4` corresponds to `conservative`. We notice that most examples are `moderate` with 42.91% of the examples, followed by `moderate conservative` with 27.84% of the examples."
   ]
  },
  {
   "cell_type": "markdown",
   "metadata": {},
   "source": [
    "### Distribution of the `label2` column"
   ]
  },
  {
   "cell_type": "code",
   "execution_count": 11,
   "metadata": {},
   "outputs": [
    {
     "name": "stdout",
     "output_type": "stream",
     "text": [
      "Original target column (level of pro-government):\n",
      "0       0\n",
      "1       0\n",
      "2       3\n",
      "3       4\n",
      "4       0\n",
      "       ..\n",
      "4495    4\n",
      "4496    0\n",
      "4497    4\n",
      "4498    4\n",
      "4499    4\n",
      "Name: label2, Length: 4500, dtype: int64\n"
     ]
    }
   ],
   "source": [
    "print(\"Original target column (level of pro-government):\")\n",
    "print(train_dataset['label2'])"
   ]
  },
  {
   "cell_type": "code",
   "execution_count": 12,
   "metadata": {},
   "outputs": [
    {
     "name": "stdout",
     "output_type": "stream",
     "text": [
      "label2\n",
      "0    1832\n",
      "3     890\n",
      "4     681\n",
      "2     478\n",
      "1     408\n",
      "5     211\n",
      "Name: count, dtype: int64\n"
     ]
    },
    {
     "data": {
      "image/png": "[encoded data removed]",
      "text/plain": [
       "<Figure size 640x480 with 1 Axes>"
      ]
     },
     "metadata": {},
     "output_type": "display_data"
    }
   ],
   "source": [
    "plot_distribution(train_dataset['label2'], \"Level of pro-government\", \"Distribution of the level of pro-government\", ['blue', 'red', 'green', 'purple', 'orange'])"
   ]
  },
  {
   "cell_type": "markdown",
   "metadata": {},
   "source": [
    "On this graph, the label `0` corresponds to `none`, `1` corresponds to `criticism`, `2` corresponds to `moderate criticism`, `3` corresponds to `moderate`, `4` corresponds to `moderate advocacy`, and `5` corresponds to `advocacy`. We notice that most examples are `none` with 40.71% of the examples, followed by `moderate` with 19.78% of the examples."
   ]
  },
  {
   "cell_type": "markdown",
   "metadata": {},
   "source": [
    "### Correlation between the `label1` and `label2` columns"
   ]
  },
  {
   "cell_type": "markdown",
   "metadata": {},
   "source": [
    "We now aim to explore if there is a correlation between the 2 labels: are liberal articles more likely to be pro-government advocacy or anti-government criticism? Same question for conservative articles. We will show a bar plot with one bar for each possible label in `label2` divided in parts for each possible label in `label1`."
   ]
  },
  {
   "cell_type": "code",
   "execution_count": 13,
   "metadata": {},
   "outputs": [
    {
     "data": {
      "image/png": "[encoded data removed]",
      "text/plain": [
       "<Figure size 1200x600 with 1 Axes>"
      ]
     },
     "metadata": {},
     "output_type": "display_data"
    }
   ],
   "source": [
    "# Group data by government sentiment and political orientation\n",
    "grouped = train_dataset.groupby(['label2', 'label1']).size().unstack(fill_value=0)\n",
    "\n",
    "# Define political orientation labels and colors\n",
    "orientation_labels = ['Liberal', 'Moderate Liberal', 'Moderate', \n",
    "                        'Moderate Conservative', 'Conservative']\n",
    "\n",
    "x_labels = ['None', 'Criticism', 'Moderate Criticism', 'Moderate', 'Moderate Advocacy', 'Advocacy']\n",
    "\n",
    "colors = ['darkblue', 'blue', 'gray', 'red', 'darkred']\n",
    "\n",
    "# Create the plot\n",
    "plt.figure(figsize=(12, 6))\n",
    "\n",
    "# Create stacked bar plot\n",
    "bottom = np.zeros(len(grouped))\n",
    "for i, (orientation, color) in enumerate(zip(orientation_labels, colors)):\n",
    "    values = grouped[i+1]  # Adjust index since your labels start at 1\n",
    "    plt.bar(grouped.index, values, bottom=bottom, label=orientation, color=color)\n",
    "    bottom += values\n",
    "\n",
    "# Customize the plot\n",
    "plt.title('Political Orientation Distribution by Government Sentiment', fontsize=15)\n",
    "plt.xlabel('Government Sentiment Level', fontsize=12)\n",
    "plt.ylabel('Number of Articles', fontsize=12)\n",
    "plt.xticks(grouped.index, x_labels)\n",
    "plt.legend(title='Political Orientation', bbox_to_anchor=(1.05, 1), loc='upper left')\n",
    "plt.tight_layout()\n"
   ]
  },
  {
   "cell_type": "markdown",
   "metadata": {},
   "source": [
    "We see that articles qualified as `None` have a high proprtion of `Moderate`, `Moderate Conservative`, and `Moderate Liberal` articles. Conservative and TODO"
   ]
  },
  {
   "cell_type": "markdown",
   "metadata": {},
   "source": [
    "## Data Preprocessing\n",
    "\n",
    "This section formats the dataset in a way that is suitable for training the ML models. The first thing we do is define the columns we will keep as input to the ML model and the columns we will use for prediction. In our case, we will just keep the `title` and `content` columns as input and only the `label1` column as the target (we only predict the political orientation, we ignore the pro-government level)."
   ]
  },
  {
   "cell_type": "code",
   "execution_count": 14,
   "metadata": {},
   "outputs": [
    {
     "name": "stdout",
     "output_type": "stream",
     "text": [
      "                                      title  \\\n",
      "0     최경환·우병우…TK 연고 '올드보이' 총선 앞두고 정치 재개 움직임   \n",
      "1           미군 '월북' 2주 넘었는데… 북한은 여전히 '침묵' 중   \n",
      "2     [속보] 한 총리 \"새만금 잼버리 참가자 4만명 안전 확보\" 지시    \n",
      "3         김영호 \"납북자·억류자 문제에 확고한 입장으로 대응할 것\"    \n",
      "4  \"충북도 국장, 배우자 일하는 증평군 지표 고쳐 136억원 부당 지원\"    \n",
      "\n",
      "                                             content  label1  \n",
      "0  \\n\\n\\n\\n\\n\\n\\n최경환 전 경제부총리 등 TK(대구·경북)에 연고가 있는 ...       3  \n",
      "1  \\n\\n\\n\\n\\n\\n\\n지난달 18일 판문점 공동경비구역을 통해 무단 월북한 트래...       3  \n",
      "2  \\n\\n\\n\\n\\n\\n\\n윤석열 대통령과 김건희 여사가 지난 2일 전북 부안군 새만...       3  \n",
      "3  \\n\\n\\n\\n\\n\\n\\n김영호 통일부 장관이 3일 서울 종로구 정부서울청사에서 납...       2  \n",
      "4  \\n\\n\\n\\n\\n\\n\\n감사원 전경 2014.9.2/뉴스1 © News1 이종덕 ...       3  \n"
     ]
    }
   ],
   "source": [
    "# Only keep the columns we need\n",
    "train_dataset = train_dataset.drop(columns=['date', 'label2'])\n",
    "test_dataset = test_dataset.drop(columns=['date', 'label2'])\n",
    "\n",
    "print(train_dataset.head())"
   ]
  },
  {
   "cell_type": "code",
   "execution_count": 15,
   "metadata": {},
   "outputs": [
    {
     "name": "stdout",
     "output_type": "stream",
     "text": [
      "   label1                                               text\n",
      "0       3  최경환·우병우…TK 연고 '올드보이' 총선 앞두고 정치 재개 움직임 \\n\\n\\n\\n...\n",
      "1       3  미군 '월북' 2주 넘었는데… 북한은 여전히 '침묵' 중 \\n\\n\\n\\n\\n\\n\\n...\n",
      "2       3  [속보] 한 총리 \"새만금 잼버리 참가자 4만명 안전 확보\" 지시  \\n\\n\\n\\n...\n",
      "3       2  김영호 \"납북자·억류자 문제에 확고한 입장으로 대응할 것\"  \\n\\n\\n\\n\\n\\n...\n",
      "4       3  \"충북도 국장, 배우자 일하는 증평군 지표 고쳐 136억원 부당 지원\"  \\n\\n\\...\n"
     ]
    }
   ],
   "source": [
    "# Now we combine the title and content column by just appending the content to the title\n",
    "train_dataset['text'] = train_dataset['title'] + \" \" + train_dataset['content']\n",
    "test_dataset['text'] = test_dataset['title'] + \" \" + test_dataset['content']\n",
    "\n",
    "# Drop the context and comment columns\n",
    "train_dataset = train_dataset.drop(columns=['title', 'content'])\n",
    "test_dataset = test_dataset.drop(columns=['title', 'content'])\n",
    "\n",
    "print(train_dataset.head())"
   ]
  },
  {
   "cell_type": "code",
   "execution_count": 16,
   "metadata": {},
   "outputs": [
    {
     "name": "stdout",
     "output_type": "stream",
     "text": [
      "   label                                               text\n",
      "0      3  최경환·우병우…TK 연고 '올드보이' 총선 앞두고 정치 재개 움직임 \\n\\n\\n\\n...\n",
      "1      3  미군 '월북' 2주 넘었는데… 북한은 여전히 '침묵' 중 \\n\\n\\n\\n\\n\\n\\n...\n",
      "2      3  [속보] 한 총리 \"새만금 잼버리 참가자 4만명 안전 확보\" 지시  \\n\\n\\n\\n...\n",
      "3      2  김영호 \"납북자·억류자 문제에 확고한 입장으로 대응할 것\"  \\n\\n\\n\\n\\n\\n...\n",
      "4      3  \"충북도 국장, 배우자 일하는 증평군 지표 고쳐 136억원 부당 지원\"  \\n\\n\\...\n"
     ]
    }
   ],
   "source": [
    "# Rename the label1 column to label\n",
    "train_dataset = train_dataset.rename(columns={\"label1\": \"label\"})\n",
    "test_dataset = test_dataset.rename(columns={\"label1\": \"label\"})\n",
    "\n",
    "print(train_dataset.head())"
   ]
  },
  {
   "cell_type": "markdown",
   "metadata": {},
   "source": [
    "## Train-Test Split"
   ]
  },
  {
   "cell_type": "markdown",
   "metadata": {},
   "source": [
    "Now in order to train our model and properly evaluate it, we need to split our dataset in three different sets:\n",
    "- Training set: used to train the model.\n",
    "- Validation set: Usually, when training a model, there is a lot of uncertainty which are linked to parameters that we give to the model when we start the training. For that reason, we somtimes like to try different parameters, thus resulting in multiple models being trained. This validation set is just used to compare these models and choose the best one.\n",
    "- Test set: This set is used to evaluate the final and best model on unseen data.\n",
    "\n",
    "For the sake of this experiment, we will not use a validation set because we will not train multiple models with different parameters. We will just train one model and evaluate it on the test set. Note that the split of train and test was already done by the creators of the dataset."
   ]
  },
  {
   "cell_type": "markdown",
   "metadata": {},
   "source": [
    "# Model Training"
   ]
  },
  {
   "cell_type": "code",
   "execution_count": 17,
   "metadata": {},
   "outputs": [
    {
     "name": "stdout",
     "output_type": "stream",
     "text": [
      "5\n"
     ]
    },
    {
     "name": "stderr",
     "output_type": "stream",
     "text": [
      "Some weights of RobertaForSequenceClassification were not initialized from the model checkpoint at klue/roberta-base and are newly initialized: ['classifier.dense.bias', 'classifier.dense.weight', 'classifier.out_proj.bias', 'classifier.out_proj.weight']\n",
      "You should probably TRAIN this model on a down-stream task to be able to use it for predictions and inference.\n"
     ]
    }
   ],
   "source": [
    "# The model we use is from the Hugging Face library\n",
    "# https://huggingface.co/klue/roberta-small\n",
    "model_name = 'klue/roberta-base'\n",
    "\n",
    "# Device is for PyTorch \n",
    "# It determines where the model will be run (CPU aka Processor or GPU aka Graphics Card)\n",
    "# In our case, we have an Apple silicon Mac, so we use the 'mps' device\n",
    "device = torch.device('mps')\n",
    "\n",
    "# We load the tokenizer and model from the Hugging Face library\n",
    "tokenizer = AutoTokenizer.from_pretrained(model_name)\n",
    "\n",
    "# We load the model from the Hugging Face library\n",
    "# We load the model on the device we defined above\n",
    "num_labels = len(train_dataset['label'].unique())\n",
    "print(num_labels)\n",
    "model = AutoModelForSequenceClassification.from_pretrained(model_name, num_labels=len(train_dataset['label'].unique())).to(device)"
   ]
  },
  {
   "cell_type": "code",
   "execution_count": 18,
   "metadata": {},
   "outputs": [
    {
     "name": "stdout",
     "output_type": "stream",
     "text": [
      "{'label': 3, 'text': '최경환·우병우…TK 연고 \\'올드보이\\' 총선 앞두고 정치 재개 움직임 \\n\\n\\n\\n\\n\\n\\n최경환 전 경제부총리 등 TK(대구·경북)에 연고가 있는 인사들이 내년 총선을 앞두고 재기를 위한 \\'정중동\\' 행보에 나서는 분위기가 감지되고 있다. 사진은 최 전 경제부총리(완쪽)가 지난 5월 서울 여의도 페어몬트 호텔에서 열린 경제개발 5개년 계획 수립 60주년 기념 국제컨퍼런스에 참석해 추경호 경제부총리와 인사하는 모습. 2023.5.25/뉴스1 © News1 신웅수 기자\\n\\n\\n\\nTK(대구·경북)에 연고를 둔 \\'올드보이\\'들이 내년 총선을 앞두고 정치 재기에 나서는 모습이다.\\'친박(親박근혜)계 좌장\\'으로 꼽히는 등 박근혜 정부의 실세였던 최경환 전 경제부총리와 우병우 전 청와대 민정수석 등이 국민의힘 간판을 내걸고 내년 총선에 출마할 것이라는 설이 파다하다.3일 정치권에 따르면 최 전 부총리는 주소지를 둔 서울 서초동과 고향인 경북 경산을 오가며 정계 인사 등과 회동하는 등 정치적 접촉면을 넓히는 것으로 알려졌다.4선을 지낸 지역구(경산시)에서 출마를 준비하는 것으로 전해진 그에 대해 \"공천을 못받으면 무소속으로 나올 것\"이라는 말도 나오고 있다.특히 지난 6월30일 \\'비윤\\'(非윤석열)계로 꼽히는 이준석 전 국민의힘 대표와 김용태 전 청년최고위원, 이기인 경기도의원 등과 만난 것이 확인되면서 내년 총선을 앞두고 \\'보수 대통합\\'에 나선 것 아니냐는 시각도 있다.최 전 부총리는 이 전 대표 등과 만나 보수 대연합의 당위성을 강조하면서 \"여당의 내년 총선 승리를 위해서는 \\'반윤 연합\\'이 아니라 \\'보수 통합\\'이 절실하다\"고 조언한 것으로 전해졌다.정가에서는 \\'최 전 부총리가 추석을 전후해 입장을 밝히지 않겠느냐\\'고 전망하고 있다.경제관료 출신인 최 전 부총리는 17대 국회 경북 경산·청도 지역구에서 당선된 후 내리 4선을 지냈다.최 전 부총리는 2019년 국정원 특별활동비 상납 사건으로 구속된 뒤 뇌물죄로 징역 5년형이 확정돼 복역하다 지난해 윤석열 대통령의 특별사면으로 풀려났다.아이러니하게도 특활비 사건을 지휘해 그를 구속시킨 사람은 당시 검사였던 윤 대통령이다.\\n\\n\\n\\n\\n\\n우병우 전 청와대 민정수석. 뉴스1 © News1 자료 사진\\n\\n\\n\\n박근혜 정부 시절 실세였던 우병우 전 청와대 민정수석의 출마설도 솔솔 나오고 있다.정가에 따르면 우 전 수석은 고향인 경북 영주나 대구에 출마할 것이라는 관측이 많다.그는 지난 6월 한 언론과의 인터뷰에서 \"국가를 위해 할 수 있는 일이 과연 뭘까를 많이 생각하고 있다\"며 출마 가능성을 시사했다.우 전 수석은 박근혜 정부 당시 국가정보원을 통해 불법사찰을 한 혐의(직권남용권리행사방해) 등으로 기소돼 2018년 12월22일 1심에서 징역 4년형을 선고받았다.이후 2021년 2월4일 2심에서 징역 1년으로 감형된 뒤 같은해 9월16일 대법원으로부터 징역 1년형을 확정받았다.지난해 연말 윤 대통령의 특별사면으로 변호사 자격 회복은 물론 피선거권까지 되찾았다.지역 정계 인사는 \"박근혜 정부에서 국정농단에 휘말려 옥살이를 한 우 전 수석이 명예회복을 위해 내년 총선에 출마할 것이라는 관측을 정치권은 거의 기정사실로 받아들인다\"며 \"우 전 수석이나 최 전 부총리 모두 출마할 경우 TK 총선 판도에 영향을 미칠 것으로 보인다\"고 했다.\\t\\t\\t\\t\\n\\npdnamsy@news1.kr                \\t\\t\\t'}\n"
     ]
    }
   ],
   "source": [
    "# We need to conver our korean dataset to a format that the model can understand\n",
    "# We use the Dataset class from the Hugging Face library\n",
    "# We have to reset the index of the training and testing datasets, which means we forget about row numbers\n",
    "# If we don't each row will have a row number associated with it\n",
    "train_dataset = Dataset.from_pandas(train_dataset.reset_index(drop=True))\n",
    "test_dataset = Dataset.from_pandas(test_dataset.reset_index(drop=True))\n",
    "\n",
    "# Print the first example in the training dataset\n",
    "print(train_dataset[0])"
   ]
  },
  {
   "cell_type": "code",
   "execution_count": 19,
   "metadata": {},
   "outputs": [
    {
     "name": "stderr",
     "output_type": "stream",
     "text": [
      "Map: 100%|██████████| 4500/4500 [00:01<00:00, 3014.42 examples/s]\n",
      "Map: 100%|██████████| 500/500 [00:00<00:00, 2916.61 examples/s]"
     ]
    },
    {
     "name": "stdout",
     "output_type": "stream",
     "text": [
      "{'label': 3, 'text': '최경환·우병우…TK 연고 \\'올드보이\\' 총선 앞두고 정치 재개 움직임 \\n\\n\\n\\n\\n\\n\\n최경환 전 경제부총리 등 TK(대구·경북)에 연고가 있는 인사들이 내년 총선을 앞두고 재기를 위한 \\'정중동\\' 행보에 나서는 분위기가 감지되고 있다. 사진은 최 전 경제부총리(완쪽)가 지난 5월 서울 여의도 페어몬트 호텔에서 열린 경제개발 5개년 계획 수립 60주년 기념 국제컨퍼런스에 참석해 추경호 경제부총리와 인사하는 모습. 2023.5.25/뉴스1 © News1 신웅수 기자\\n\\n\\n\\nTK(대구·경북)에 연고를 둔 \\'올드보이\\'들이 내년 총선을 앞두고 정치 재기에 나서는 모습이다.\\'친박(親박근혜)계 좌장\\'으로 꼽히는 등 박근혜 정부의 실세였던 최경환 전 경제부총리와 우병우 전 청와대 민정수석 등이 국민의힘 간판을 내걸고 내년 총선에 출마할 것이라는 설이 파다하다.3일 정치권에 따르면 최 전 부총리는 주소지를 둔 서울 서초동과 고향인 경북 경산을 오가며 정계 인사 등과 회동하는 등 정치적 접촉면을 넓히는 것으로 알려졌다.4선을 지낸 지역구(경산시)에서 출마를 준비하는 것으로 전해진 그에 대해 \"공천을 못받으면 무소속으로 나올 것\"이라는 말도 나오고 있다.특히 지난 6월30일 \\'비윤\\'(非윤석열)계로 꼽히는 이준석 전 국민의힘 대표와 김용태 전 청년최고위원, 이기인 경기도의원 등과 만난 것이 확인되면서 내년 총선을 앞두고 \\'보수 대통합\\'에 나선 것 아니냐는 시각도 있다.최 전 부총리는 이 전 대표 등과 만나 보수 대연합의 당위성을 강조하면서 \"여당의 내년 총선 승리를 위해서는 \\'반윤 연합\\'이 아니라 \\'보수 통합\\'이 절실하다\"고 조언한 것으로 전해졌다.정가에서는 \\'최 전 부총리가 추석을 전후해 입장을 밝히지 않겠느냐\\'고 전망하고 있다.경제관료 출신인 최 전 부총리는 17대 국회 경북 경산·청도 지역구에서 당선된 후 내리 4선을 지냈다.최 전 부총리는 2019년 국정원 특별활동비 상납 사건으로 구속된 뒤 뇌물죄로 징역 5년형이 확정돼 복역하다 지난해 윤석열 대통령의 특별사면으로 풀려났다.아이러니하게도 특활비 사건을 지휘해 그를 구속시킨 사람은 당시 검사였던 윤 대통령이다.\\n\\n\\n\\n\\n\\n우병우 전 청와대 민정수석. 뉴스1 © News1 자료 사진\\n\\n\\n\\n박근혜 정부 시절 실세였던 우병우 전 청와대 민정수석의 출마설도 솔솔 나오고 있다.정가에 따르면 우 전 수석은 고향인 경북 영주나 대구에 출마할 것이라는 관측이 많다.그는 지난 6월 한 언론과의 인터뷰에서 \"국가를 위해 할 수 있는 일이 과연 뭘까를 많이 생각하고 있다\"며 출마 가능성을 시사했다.우 전 수석은 박근혜 정부 당시 국가정보원을 통해 불법사찰을 한 혐의(직권남용권리행사방해) 등으로 기소돼 2018년 12월22일 1심에서 징역 4년형을 선고받았다.이후 2021년 2월4일 2심에서 징역 1년으로 감형된 뒤 같은해 9월16일 대법원으로부터 징역 1년형을 확정받았다.지난해 연말 윤 대통령의 특별사면으로 변호사 자격 회복은 물론 피선거권까지 되찾았다.지역 정계 인사는 \"박근혜 정부에서 국정농단에 휘말려 옥살이를 한 우 전 수석이 명예회복을 위해 내년 총선에 출마할 것이라는 관측을 정치권은 거의 기정사실로 받아들인다\"며 \"우 전 수석이나 최 전 부총리 모두 출마할 경우 TK 총선 판도에 영향을 미칠 것으로 보인다\"고 했다.\\t\\t\\t\\t\\n\\npdnamsy@news1.kr                \\t\\t\\t', 'input_ids': [0, 15072, 100, 1469, 2394, 2137, 121, 16695, 11995, 11, 18411, 16555, 11, 5425, 5018, 2088, 3713, 7355, 5504, 15072, 1537, 3674, 2144, 6384, 886, 16695, 12, 3900, 100, 4724, 13, 1421, 11995, 2116, 1513, 2259, 4004, 7285, 4172, 5425, 2069, 5018, 2088, 18174, 2138, 3694, 11, 13624, 2328, 11, 7563, 2170, 4718, 2259, 4281, 2116, 8749, 2496, 2088, 1513, 2062, 18, 4035, 2073, 1670, 1537, 3674, 2144, 6384, 12, 1455, 3020, 13, 543, 3625, 25, 2429, 3671, 7915, 11036, 2582, 2265, 4756, 27135, 4306, 3674, 9800, 25, 2019, 2440, 3716, 5651, 4343, 2223, 2440, 4663, 3854, 2700, 11917, 2170, 4391, 2097, 10108, 2016, 3674, 2144, 6384, 2522, 4004, 2205, 2259, 3781, 18, 30226, 18, 25, 18, 3912, 19, 4836, 2083, 3, 8909, 2041, 2083, 1327, 2564, 2113, 4055, 16695, 12, 3900, 100, 4724, 13, 1421, 11995, 2138, 866, 11, 18411, 16555, 11, 6433, 4172, 5425, 2069, 5018, 2088, 3713, 18174, 2170, 4718, 2259, 3781, 28674, 18, 11, 1691, 2042, 12, 489, 4655, 13, 593, 26918, 11, 3603, 8789, 2259, 886, 4655, 3659, 2079, 12826, 2507, 2414, 15072, 1537, 3674, 2144, 6384, 2522, 1469, 2394, 2137, 1537, 4449, 9675, 2113, 2055, 886, 2052, 3735, 2079, 2622, 8366, 2069, 9743, 2088, 4172, 5425, 2170, 5457, 2085, 575, 2052, 23548, 1263, 2052, 1826, 2062, 2205, 2062, 18, 23, 2210, 3713, 2207, 2170, 3881, 2460, 1670, 1537, 8819, 2259, 25245, 2138, 866, 3671, 20001, 2145, 5512, 2179, 4724, 12772, 2069, 7696, 2307, 13596, 4004, 886, 2145, 9910, 2205, 2259, 886, 3713, 2125, 6559, 2460, 2069, 11673, 2259, 575, 6233, 4757, 2062, 18, 24, 2020, 2069, 8490, 9340, 12, 29731, 13, 3604, 5457, 2138, 3864, 2205, 2259, 575, 6233, 27083, 636, 2170, 3643, 6, 5492, 2069, 1085, 2757, 6076, 16649, 2354, 6233, 5458, 575, 6, 5763, 2259, 1041, 2119, 3853, 2088, 1513, 2062, 18, 3727, 3625, 26, 2429, 7556, 2210, 11, 1187, 2399, 11, 12, 531, 12024, 2142, 13, 593, 2200, 8789, 2259, 11942, 2055, 1537, 3735, 2079, 2622, 3661, 2522, 8536, 2260, 1537, 4563, 2631, 2088, 8956, 16, 5576, 2179, 4619, 5069, 886, 2145, 5271, 575, 2052, 3915, 2496, 31369, 4172, 5425, 2069, 5018, 2088, 11, 4687, 28276, 2092, 11, 1421, 5120, 575, 3614, 2529, 2259, 4808, 2119, 1513, 2062, 18, 1670, 1537, 8819, 2259, 1504, 1537, 3661, 886, 2145, 4026, 4687, 25803, 2092, 2079, 14763, 2047, 2069, 3986, 5643, 2112, 6, 6054, 2079, 4172, 5425, 4644, 2138, 3961, 2259, 11, 1121, 2399, 4637, 11, 1504, 3614, 2181, 11, 4687, 4185, 11, 1504, 8027, 2205, 2062, 6, 594, 6169, 2470, 575, 6233, 6923, 2062, 18, 14483, 27135, 2259, 11, 1670, 1537, 8819, 2116, 6734, 2069, 7087, 2097, 3946, 2069, 5481, 2118, 1380, 2918, 2922, 2529, 11, 594, 4016, 19521, 1513, 2062, 18, 3674, 2133, 2071, 4327, 2179, 1670, 1537, 8819, 2259, 3932, 2104, 3906, 4724, 12772, 100, 14890, 9340, 27135, 5112, 2897, 1943, 4848, 24, 2020, 2069, 8340, 2062, 18, 1670, 1537, 8819, 2259, 9227, 2440, 6696, 4014, 2424, 2328, 2151, 28418, 3863, 6233, 4908, 2897, 873, 28859, 2200, 7300, 25, 2440, 2444, 2052, 4947, 2811, 25511, 2205, 2062, 3736, 12024, 2142, 3698, 2079, 2], 'token_type_ids': [0, 0, 0, 0, 0, 0, 0, 0, 0, 0, 0, 0, 0, 0, 0, 0, 0, 0, 0, 0, 0, 0, 0, 0, 0, 0, 0, 0, 0, 0, 0, 0, 0, 0, 0, 0, 0, 0, 0, 0, 0, 0, 0, 0, 0, 0, 0, 0, 0, 0, 0, 0, 0, 0, 0, 0, 0, 0, 0, 0, 0, 0, 0, 0, 0, 0, 0, 0, 0, 0, 0, 0, 0, 0, 0, 0, 0, 0, 0, 0, 0, 0, 0, 0, 0, 0, 0, 0, 0, 0, 0, 0, 0, 0, 0, 0, 0, 0, 0, 0, 0, 0, 0, 0, 0, 0, 0, 0, 0, 0, 0, 0, 0, 0, 0, 0, 0, 0, 0, 0, 0, 0, 0, 0, 0, 0, 0, 0, 0, 0, 0, 0, 0, 0, 0, 0, 0, 0, 0, 0, 0, 0, 0, 0, 0, 0, 0, 0, 0, 0, 0, 0, 0, 0, 0, 0, 0, 0, 0, 0, 0, 0, 0, 0, 0, 0, 0, 0, 0, 0, 0, 0, 0, 0, 0, 0, 0, 0, 0, 0, 0, 0, 0, 0, 0, 0, 0, 0, 0, 0, 0, 0, 0, 0, 0, 0, 0, 0, 0, 0, 0, 0, 0, 0, 0, 0, 0, 0, 0, 0, 0, 0, 0, 0, 0, 0, 0, 0, 0, 0, 0, 0, 0, 0, 0, 0, 0, 0, 0, 0, 0, 0, 0, 0, 0, 0, 0, 0, 0, 0, 0, 0, 0, 0, 0, 0, 0, 0, 0, 0, 0, 0, 0, 0, 0, 0, 0, 0, 0, 0, 0, 0, 0, 0, 0, 0, 0, 0, 0, 0, 0, 0, 0, 0, 0, 0, 0, 0, 0, 0, 0, 0, 0, 0, 0, 0, 0, 0, 0, 0, 0, 0, 0, 0, 0, 0, 0, 0, 0, 0, 0, 0, 0, 0, 0, 0, 0, 0, 0, 0, 0, 0, 0, 0, 0, 0, 0, 0, 0, 0, 0, 0, 0, 0, 0, 0, 0, 0, 0, 0, 0, 0, 0, 0, 0, 0, 0, 0, 0, 0, 0, 0, 0, 0, 0, 0, 0, 0, 0, 0, 0, 0, 0, 0, 0, 0, 0, 0, 0, 0, 0, 0, 0, 0, 0, 0, 0, 0, 0, 0, 0, 0, 0, 0, 0, 0, 0, 0, 0, 0, 0, 0, 0, 0, 0, 0, 0, 0, 0, 0, 0, 0, 0, 0, 0, 0, 0, 0, 0, 0, 0, 0, 0, 0, 0, 0, 0, 0, 0, 0, 0, 0, 0, 0, 0, 0, 0, 0, 0, 0, 0, 0, 0, 0, 0, 0, 0, 0, 0, 0, 0, 0, 0, 0, 0, 0, 0, 0, 0, 0, 0, 0, 0, 0, 0, 0, 0, 0, 0, 0, 0, 0, 0, 0, 0, 0, 0, 0, 0, 0, 0, 0, 0, 0, 0, 0, 0, 0, 0, 0, 0, 0, 0, 0, 0, 0, 0, 0, 0, 0, 0, 0, 0, 0, 0, 0, 0, 0, 0, 0, 0, 0, 0, 0, 0, 0, 0, 0, 0, 0, 0, 0, 0, 0, 0, 0, 0, 0, 0, 0, 0, 0], 'attention_mask': [1, 1, 1, 1, 1, 1, 1, 1, 1, 1, 1, 1, 1, 1, 1, 1, 1, 1, 1, 1, 1, 1, 1, 1, 1, 1, 1, 1, 1, 1, 1, 1, 1, 1, 1, 1, 1, 1, 1, 1, 1, 1, 1, 1, 1, 1, 1, 1, 1, 1, 1, 1, 1, 1, 1, 1, 1, 1, 1, 1, 1, 1, 1, 1, 1, 1, 1, 1, 1, 1, 1, 1, 1, 1, 1, 1, 1, 1, 1, 1, 1, 1, 1, 1, 1, 1, 1, 1, 1, 1, 1, 1, 1, 1, 1, 1, 1, 1, 1, 1, 1, 1, 1, 1, 1, 1, 1, 1, 1, 1, 1, 1, 1, 1, 1, 1, 1, 1, 1, 1, 1, 1, 1, 1, 1, 1, 1, 1, 1, 1, 1, 1, 1, 1, 1, 1, 1, 1, 1, 1, 1, 1, 1, 1, 1, 1, 1, 1, 1, 1, 1, 1, 1, 1, 1, 1, 1, 1, 1, 1, 1, 1, 1, 1, 1, 1, 1, 1, 1, 1, 1, 1, 1, 1, 1, 1, 1, 1, 1, 1, 1, 1, 1, 1, 1, 1, 1, 1, 1, 1, 1, 1, 1, 1, 1, 1, 1, 1, 1, 1, 1, 1, 1, 1, 1, 1, 1, 1, 1, 1, 1, 1, 1, 1, 1, 1, 1, 1, 1, 1, 1, 1, 1, 1, 1, 1, 1, 1, 1, 1, 1, 1, 1, 1, 1, 1, 1, 1, 1, 1, 1, 1, 1, 1, 1, 1, 1, 1, 1, 1, 1, 1, 1, 1, 1, 1, 1, 1, 1, 1, 1, 1, 1, 1, 1, 1, 1, 1, 1, 1, 1, 1, 1, 1, 1, 1, 1, 1, 1, 1, 1, 1, 1, 1, 1, 1, 1, 1, 1, 1, 1, 1, 1, 1, 1, 1, 1, 1, 1, 1, 1, 1, 1, 1, 1, 1, 1, 1, 1, 1, 1, 1, 1, 1, 1, 1, 1, 1, 1, 1, 1, 1, 1, 1, 1, 1, 1, 1, 1, 1, 1, 1, 1, 1, 1, 1, 1, 1, 1, 1, 1, 1, 1, 1, 1, 1, 1, 1, 1, 1, 1, 1, 1, 1, 1, 1, 1, 1, 1, 1, 1, 1, 1, 1, 1, 1, 1, 1, 1, 1, 1, 1, 1, 1, 1, 1, 1, 1, 1, 1, 1, 1, 1, 1, 1, 1, 1, 1, 1, 1, 1, 1, 1, 1, 1, 1, 1, 1, 1, 1, 1, 1, 1, 1, 1, 1, 1, 1, 1, 1, 1, 1, 1, 1, 1, 1, 1, 1, 1, 1, 1, 1, 1, 1, 1, 1, 1, 1, 1, 1, 1, 1, 1, 1, 1, 1, 1, 1, 1, 1, 1, 1, 1, 1, 1, 1, 1, 1, 1, 1, 1, 1, 1, 1, 1, 1, 1, 1, 1, 1, 1, 1, 1, 1, 1, 1, 1, 1, 1, 1, 1, 1, 1, 1, 1, 1, 1, 1, 1, 1, 1, 1, 1, 1, 1, 1, 1, 1, 1, 1, 1, 1, 1, 1, 1, 1, 1, 1, 1, 1, 1, 1, 1, 1, 1, 1, 1, 1, 1, 1, 1, 1]}\n"
     ]
    },
    {
     "name": "stderr",
     "output_type": "stream",
     "text": [
      "\n"
     ]
    }
   ],
   "source": [
    "# We define a function to tokenize the text in the dataset\n",
    "# We use the tokenizer we loaded above\n",
    "# We use the padding and truncation options to ensure all examples have the same length\n",
    "# This is because the model requires all examples to have the same length, if one example is shorter than the maximum length, it will be padded with zeros at the end\n",
    "# If one example is longer than the maximum length, it will be truncated\n",
    "def tokenize_function(examples):\n",
    "    return tokenizer(examples[\"text\"], padding=\"max_length\", truncation=True)\n",
    "\n",
    "# We apply the function to the training and testing datasets\n",
    "# This will print a progress bar\n",
    "train_dataset_tokenized = train_dataset.map(tokenize_function, batched=True)\n",
    "test_dataset_tokenized = test_dataset.map(tokenize_function, batched=True)\n",
    "\n",
    "# Print the first example in the training dataset\n",
    "print(train_dataset_tokenized[0])"
   ]
  },
  {
   "cell_type": "markdown",
   "metadata": {},
   "source": [
    "We notice that after tokenizing, our input data now has one extra information: `input_ids`. This is the tokenized version of the input data. Each characater in the input data is now represented by a number. This is the format that the model can understand, and this is also why we needed to tokenize the input data.\n",
    "\n",
    "Note that it starts with a 0: this is the token for the start of the sentence and is not a character in the input data.\n",
    "The input is also padded with 1s at the end to make sure that all inputs have the same length. This is necessary because the model can only work with inputs of the same length.\n",
    "\n",
    "Not a single character will be 0 nor 1 in the input data, so the model will know that 0 or 1 is a padding token and not a character in the input data."
   ]
  },
  {
   "cell_type": "code",
   "execution_count": 20,
   "metadata": {},
   "outputs": [],
   "source": [
    "# We create the Training Arguments object\n",
    "# This object contains all the arguments / paramaters needed to train the model\n",
    "# Training can take a long time, and so we want to save checkpoints of the model during training\n",
    "# We also want to save one checkpoint at the end, so that we don't have to retrain the model, we can just reload it and use it for future applications\n",
    "# An epoch is one iteration over the entire dataset\n",
    "training_args = TrainingArguments(output_dir=\"./political_orientation_models\", # The output directory where the model checkpoints will be saved during training.\n",
    "                                eval_strategy=\"epoch\",  # The evaluation strategy to use during training: at each epoch we evaluate the model\n",
    "                                save_strategy=\"epoch\",  # The checkpoint save strategy to use during training: at each epoch we save the model\n",
    "                                per_device_train_batch_size=16, # The batch size to use during training, here we pass 8 examples per batch\n",
    "                                per_device_eval_batch_size=16,  # The batch size to use during evaluation, here we pass 8 examples per batch\n",
    "                                num_train_epochs=3,   # The number of epochs to train the model, here we pass 3 epochs on the dataset\n",
    "                                logging_dir=\"./logs\", # The directory where logs are saved\n",
    "                                logging_steps=100, # The number of steps before logging the training loss\n",
    "                                load_best_model_at_end=True, \n",
    "                                metric_for_best_model=\"accuracy\") # Load the best model at the end of training based on the accuracy metric\n",
    "\n",
    "# Trainer does not automatically evaluate the model during training on the test set\n",
    "# We have to do this manually\n",
    "# We create the metrics function to evaluate the model on the test set\n",
    "# Metric here is a function that takes the predictions and true labels of our dataset as input and returns the accuracy\n",
    "# We decided to take the accuracy as the metric to evaluate the model because it is a classification task\n",
    "metric = evaluate.load(\"accuracy\")"
   ]
  },
  {
   "cell_type": "code",
   "execution_count": 21,
   "metadata": {},
   "outputs": [],
   "source": [
    "# Call compute on metric to calculate the accuracy of your predictions.\n",
    "# Before passing your predictions to compute, you need to convert the logits to predictions (remember all Hugging Face Transformers models return logits):\n",
    "def compute_metrics(eval_pred):\n",
    "    # Logits are just probabilities!\n",
    "    # SO the model is not directly predicting if a comment is offensive or not, it is predicting the probability of a comment being offensive\n",
    "    # More preciesly, logits is a list of probabilities for each class possible (in our case 26)\n",
    "    logits, labels = eval_pred\n",
    "    \n",
    "    # We need to convert logits to a prediction among the 26 classes\n",
    "    # To do so, we take the class with the highest probability (we use np.argmax to find the index of the highest probability for efficiency)\n",
    "    predictions = np.argmax(logits, axis=-1)\n",
    "\n",
    "    # We return the accuracy of the model using the imported metric\n",
    "    return metric.compute(predictions=predictions, references=labels)"
   ]
  },
  {
   "cell_type": "code",
   "execution_count": 22,
   "metadata": {},
   "outputs": [],
   "source": [
    "# Finally, we create the Trainer object\n",
    "trainer = Trainer(\n",
    "    model=model,\n",
    "    args=training_args,\n",
    "    train_dataset=train_dataset_tokenized,\n",
    "    eval_dataset=test_dataset_tokenized,\n",
    "    compute_metrics=compute_metrics,\n",
    ")"
   ]
  },
  {
   "cell_type": "code",
   "execution_count": 23,
   "metadata": {},
   "outputs": [
    {
     "name": "stderr",
     "output_type": "stream",
     "text": [
      " 12%|█▏        | 100/846 [02:18<17:13,  1.39s/it]"
     ]
    },
    {
     "name": "stdout",
     "output_type": "stream",
     "text": [
      "{'loss': 1.1563, 'grad_norm': 4.394130706787109, 'learning_rate': 4.4089834515366435e-05, 'epoch': 0.35}\n"
     ]
    },
    {
     "name": "stderr",
     "output_type": "stream",
     "text": [
      " 24%|██▎       | 200/846 [04:44<14:42,  1.37s/it]"
     ]
    },
    {
     "name": "stdout",
     "output_type": "stream",
     "text": [
      "{'loss': 1.0356, 'grad_norm': 5.625962734222412, 'learning_rate': 3.817966903073286e-05, 'epoch': 0.71}\n"
     ]
    },
    {
     "name": "stderr",
     "output_type": "stream",
     "text": [
      "                                                 \n",
      " 33%|███▎      | 282/846 [06:50<12:12,  1.30s/it]"
     ]
    },
    {
     "name": "stdout",
     "output_type": "stream",
     "text": [
      "{'eval_loss': 0.9995326995849609, 'eval_accuracy': 0.35, 'eval_runtime': 14.5344, 'eval_samples_per_second': 34.401, 'eval_steps_per_second': 2.202, 'epoch': 1.0}\n"
     ]
    },
    {
     "name": "stderr",
     "output_type": "stream",
     "text": [
      " 35%|███▌      | 300/846 [07:23<12:46,  1.40s/it]  "
     ]
    },
    {
     "name": "stdout",
     "output_type": "stream",
     "text": [
      "{'loss': 0.9742, 'grad_norm': 5.070528984069824, 'learning_rate': 3.226950354609929e-05, 'epoch': 1.06}\n"
     ]
    },
    {
     "name": "stderr",
     "output_type": "stream",
     "text": [
      " 47%|████▋     | 400/846 [09:30<08:32,  1.15s/it]"
     ]
    },
    {
     "name": "stdout",
     "output_type": "stream",
     "text": [
      "{'loss': 0.8786, 'grad_norm': 5.182549476623535, 'learning_rate': 2.6359338061465723e-05, 'epoch': 1.42}\n"
     ]
    },
    {
     "name": "stderr",
     "output_type": "stream",
     "text": [
      " 59%|█████▉    | 500/846 [11:27<06:41,  1.16s/it]"
     ]
    },
    {
     "name": "stdout",
     "output_type": "stream",
     "text": [
      "{'loss': 0.7945, 'grad_norm': 13.719276428222656, 'learning_rate': 2.0449172576832152e-05, 'epoch': 1.77}\n"
     ]
    },
    {
     "name": "stderr",
     "output_type": "stream",
     "text": [
      "                                                 \n",
      " 67%|██████▋   | 564/846 [12:53<04:12,  1.12it/s]"
     ]
    },
    {
     "name": "stdout",
     "output_type": "stream",
     "text": [
      "{'eval_loss': 0.9546477198600769, 'eval_accuracy': 0.456, 'eval_runtime': 12.5264, 'eval_samples_per_second': 39.916, 'eval_steps_per_second': 2.555, 'epoch': 2.0}\n"
     ]
    },
    {
     "name": "stderr",
     "output_type": "stream",
     "text": [
      " 71%|███████   | 600/846 [13:42<04:45,  1.16s/it]"
     ]
    },
    {
     "name": "stdout",
     "output_type": "stream",
     "text": [
      "{'loss': 0.729, 'grad_norm': 11.227746963500977, 'learning_rate': 1.4539007092198581e-05, 'epoch': 2.13}\n"
     ]
    },
    {
     "name": "stderr",
     "output_type": "stream",
     "text": [
      " 83%|████████▎ | 700/846 [15:40<02:53,  1.19s/it]"
     ]
    },
    {
     "name": "stdout",
     "output_type": "stream",
     "text": [
      "{'loss': 0.6123, 'grad_norm': 7.56284761428833, 'learning_rate': 8.628841607565012e-06, 'epoch': 2.48}\n"
     ]
    },
    {
     "name": "stderr",
     "output_type": "stream",
     "text": [
      " 95%|█████████▍| 800/846 [17:37<00:53,  1.17s/it]"
     ]
    },
    {
     "name": "stdout",
     "output_type": "stream",
     "text": [
      "{'loss': 0.6012, 'grad_norm': 9.89148998260498, 'learning_rate': 2.7186761229314422e-06, 'epoch': 2.84}\n"
     ]
    },
    {
     "name": "stderr",
     "output_type": "stream",
     "text": [
      "                                                 \n",
      "100%|██████████| 846/846 [18:48<00:00,  1.09it/s]"
     ]
    },
    {
     "name": "stdout",
     "output_type": "stream",
     "text": [
      "{'eval_loss': 0.8699450492858887, 'eval_accuracy': 0.476, 'eval_runtime': 11.8246, 'eval_samples_per_second': 42.285, 'eval_steps_per_second': 2.706, 'epoch': 3.0}\n"
     ]
    },
    {
     "name": "stderr",
     "output_type": "stream",
     "text": [
      "100%|██████████| 846/846 [18:53<00:00,  1.34s/it]"
     ]
    },
    {
     "name": "stdout",
     "output_type": "stream",
     "text": [
      "{'train_runtime': 1133.3519, 'train_samples_per_second': 11.912, 'train_steps_per_second': 0.746, 'train_loss': 0.8342492867868843, 'epoch': 3.0}\n"
     ]
    },
    {
     "name": "stderr",
     "output_type": "stream",
     "text": [
      "\n"
     ]
    },
    {
     "data": {
      "text/plain": [
       "TrainOutput(global_step=846, training_loss=0.8342492867868843, metrics={'train_runtime': 1133.3519, 'train_samples_per_second': 11.912, 'train_steps_per_second': 0.746, 'total_flos': 3552094923264000.0, 'train_loss': 0.8342492867868843, 'epoch': 3.0})"
      ]
     },
     "execution_count": 23,
     "metadata": {},
     "output_type": "execute_result"
    }
   ],
   "source": [
    "trainer.train()"
   ]
  },
  {
   "cell_type": "markdown",
   "metadata": {},
   "source": [
    "# Evaluation"
   ]
  },
  {
   "cell_type": "markdown",
   "metadata": {},
   "source": [
    "We are now done with training! We noticed checkpoints are saved in the `./model` directory. We will now evaluate the model on the test set. The first step is to reload the model from the last checkpoint. In our case, this checkpoint folder name is `checkpoint-846`."
   ]
  },
  {
   "cell_type": "code",
   "execution_count": 20,
   "metadata": {},
   "outputs": [],
   "source": [
    "# We must convert the test dataset to a torch dataset so that we can use it with the model\n",
    "test_dataset_tokenized.set_format(type='torch', columns=['input_ids', 'attention_mask', 'text', 'label'])\n",
    "test_dataset_tokenized = torch.utils.data.DataLoader(test_dataset_tokenized, batch_size=8)"
   ]
  },
  {
   "cell_type": "code",
   "execution_count": 21,
   "metadata": {},
   "outputs": [],
   "source": [
    "# Load the best model from the last checkpoint\n",
    "model = AutoModelForSequenceClassification.from_pretrained(\"./political_orientation_models/checkpoint-846\").to(device)\n",
    "\n",
    "# Set the model to evaluation mode\n",
    "model.eval()\n",
    "\n",
    "# We create a datastructure to store the predictions and true labels for each example in the test set\n",
    "predicted_dataframe = pandas.DataFrame(columns=['text', 'predicted_label', 'true_label'])\n",
    "\n",
    "# Disable gradient computation for inference (just means we don't need to compute gradients aka we just do a forward pass)\n",
    "# This is because we are not training the model, we are just using it to make predictions, so not need to compute gradients and go backwards to modify the model\n",
    "with torch.no_grad():\n",
    "    # Iterate over the test dataset in batches\n",
    "    for batch in test_dataset_tokenized:\n",
    "        # Remove 'label' from the batch before passing to the model, because the model should not know the true labels\n",
    "        labels = batch.pop('label', None)\n",
    "        texts = batch.pop('text', None)\n",
    "        \n",
    "        # Move batch to the same device as the model\n",
    "        batch = {k: v.to(device) for k, v in batch.items()}\n",
    "        \n",
    "        # Get model outputs (logits) by passing the batch to the model\n",
    "        # These are the probabilities of each class (num classes = 26 because 26 possible outputs)\n",
    "        outputs = model(**batch)\n",
    "        \n",
    "        # Get predictions (argmax of logits) as we have done before\n",
    "        predictions = torch.argmax(outputs.logits, dim=-1)\n",
    "        \n",
    "        # We add a new row in the dataframe for each example in the batch, with the text, predicted label and true label\n",
    "        # we can't append to a dataframe we must use concat\n",
    "        predicted_dataframe = pandas.concat([predicted_dataframe, pandas.DataFrame({'text': texts, 'predicted_label': predictions.cpu().numpy(), 'true_label': labels.cpu().numpy()})])"
   ]
  },
  {
   "cell_type": "code",
   "execution_count": null,
   "metadata": {},
   "outputs": [
    {
     "name": "stdout",
     "output_type": "stream",
     "text": [
      "(500,)\n",
      "(500,)\n",
      "Accuracy: 0.476\n"
     ]
    }
   ],
   "source": [
    "# Compute accuracy, we use the accuracy_score function from the sklearn library \n",
    "predictions = predicted_dataframe['predicted_label']\n",
    "true_labels = predicted_dataframe['true_label']\n",
    "\n",
    "# COnvert to numpy array as integers\n",
    "predictions = predictions.to_numpy().astype(int)\n",
    "true_labels = true_labels.to_numpy().astype(int)\n",
    "\n",
    "accuracy = accuracy_score(true_labels, predictions)\n",
    "print(f\"Accuracy: {accuracy}\")"
   ]
  },
  {
   "cell_type": "markdown",
   "metadata": {},
   "source": [
    "We computed the test accuracy to evaluate the model: it represents the percentage of correct predictions made by the model on the test set. The exact mathematical formula is:\n",
    "\n",
    "$$\\text{Test Accuracy} = \\frac{\\text{Number of correct predictions}}{\\text{Total number of predictions}}$$\n",
    "\n",
    "We reached a final test accuracy of around 0.48, which means that the model correctly predicted the political opinion of 48% of the articles in the test set. We will try to vizualize the confusion matrix to see how the model performed on each possible label.\n",
    "\n",
    "More precisely, the confusion matrix is a table that is often used to describe the performance of a classification model on a set of data for which the true values are known. It allows the visualization of the performance of an algorithm. Each row of the matrix represents the instances in a predicted class while each column represents the instances in an actual class (or vice versa)."
   ]
  },
  {
   "cell_type": "code",
   "execution_count": 36,
   "metadata": {},
   "outputs": [
    {
     "data": {
      "image/png": "[encoded data removed]",
      "text/plain": [
       "<Figure size 1000x1000 with 2 Axes>"
      ]
     },
     "metadata": {},
     "output_type": "display_data"
    }
   ],
   "source": [
    "# Plot the confusion matrix using sns library\n",
    "# Compute the confusion matrix using the true labels and the predictions\n",
    "confusion_matrix = pandas.crosstab(pandas.Series(true_labels, name='Actual'), pandas.Series(predictions, name='Predicted'))\n",
    "\n",
    "# Plot the confusion matrix\n",
    "plt.figure(figsize=(10, 10))\n",
    "sns.heatmap(confusion_matrix, annot=True, fmt='d')\n",
    "\n",
    "# Add labels to the x and y axis\n",
    "plt.xlabel('Predicted')\n",
    "plt.ylabel('Actual')\n",
    "plt.title('Confusion Matrix')\n",
    "plt.show()"
   ]
  },
  {
   "cell_type": "markdown",
   "metadata": {},
   "source": [
    "We see that our model is good at predicting `Moderate Conservative` but completely fails at predicting `Conservative`. Not a single article was predicted as `Conservative` by the model. We aim to vizualize an example of an article."
   ]
  },
  {
   "cell_type": "code",
   "execution_count": 39,
   "metadata": {},
   "outputs": [
    {
     "name": "stdout",
     "output_type": "stream",
     "text": [
      "Text: 시럽급여' 논란에 윤재옥 \"이야기 않겠다…언론 지적 알고 있다\" 국민의힘 윤재옥 원내대표가 차기 정부 국정과제를 정하는 대통령직인수위원회에서 서울-양평고속도로 종점 변경을 논의했다는 주장은 억지스럽다고 비판했다. 윤석열 대통령의 부인인 김건희 전 코바나컨텐츠 대표 일가 소유 땅 인근으로의 종점 변경이 윤석열 대통령 인수위원회 시기에 이뤄졌다는 야당의 공세에 대한 반박이다.\n",
      "\n",
      "윤 원내대표는 14일 국회에서 열린 '원내대표 취임 100일 기자간담회'에서 '서울-양평고속도로 논란을 국정조사로 해소하는 것이 맞지 않나'라는 질문에 \"인수위가 관여했다는데 인수위는 정부 정책 방향을 잡는 곳이지 개별 고속도로 노선을 인수위에서 논의해 출범하자마자 관여한다는 것은 상식적이지 않다\"고 답했다.\n",
      "\n",
      "윤 원내대표는 \"인수위는 다음 국정 아젠다를 찾는 조직이고 그런 취지로 인수위를 운영하는데 여러 가지 상황상 지금 야당의 주장이 억지스럽다\"며 \"또 양평에 선산이 있고 선대 때부터 있던 땅이 있다는 이유로 (김 전 대표에게 특혜가 있었다고) 몰고가는 것은 바람직하지 않다\"고 주장했다.\n",
      "\n",
      "윤 원내대표는 \"이 상황은 국정조사를 할 상황이 아니다\"라며 \"17일 (원희룡) 장관이 귀국하는대로 국토위원회 문을 열기로 했다. 거기에서 야당이 질문할 사항이 있으면 질의하고 답변하는 과정을 통해 문제가 정리되는 것이 맞다\"고 기존 입장을 재확인했다.\n",
      "\n",
      "'한국갤럽의 이번 주 여론조사에서 윤 대통령의 지지율이 지난 주에 비해 6%P 떨어진 요인을 뭐라고 분석하나'라는 질문에 윤 원내대표는 \"오늘 발표됐다니 더 분석해보겠다\"며 \"여의도연구소라든지 핵심 실무자들과 논의해 지지율 관련 분석을 해보겠다\"고 답을 피했다. (☞관련기사 : 尹지지율 6%P↓ '최대 낙폭', 日 오염수 방류 여파)\n",
      "\n",
      "지난 12일 실업급여 당정 공청회에서 나온 \"시럽급여\", '여성·청년이 실업급여로 명품 사고 해외여행 간다' 등 발언에 대한 생각을 묻는 질문에 윤 원내대표는 \"개별적 표현에 대해서는 이야기하지 않겠다\"며 \"언론에서 지적되는 것도 알고 있다\"고 말했다. (☞관련기사 : 당정 공청회에서 \"여자·청년들은 실업급여로 해외여행, 샤넬 선글라스 사\")\n",
      "\n",
      "그는 \"당정 과정에서 있던 발언과 관련해 문제제기도 있지만 사실 반복해서 (실업급여를) 수급하는 일이 많고 재취업률도 극히 낮다\"며 \"현장에 여러가지 우려되는 여론을 취합해 개선의 여지가 있으면 개선하도록 노력하겠다\"고 했다.\n",
      "\n",
      "'시행령 개정을 통한 한국방송(KBS) 수신료 분리 징수, 방송통신위원회의 윤석년 한국방송 이사 해임 건의안 의결 등을 통해 과거 정권의 방송 장악 시도를 되풀이하고 있는 것 아닌가'라는 질문에 윤 원내대표는 \"방송 장악 의도를 갖고 있지 않다\"며 \"문제가 드러나는데 그냥 넘어갈 수 없기 때문에 사안에 따라 조치하고 있다고 이해해달라\"고 답했다.\n",
      "\n",
      "'아들 학교폭력, 방송 장악 시도 등 논란이 있는 이동관 전 MB정부 청와대 홍보수석비서관이 방송통신위원장에 내정되면 어떻게 할 생각인가'라는 질문에 윤 원내대표는 지명되지도 않은 사안에 대해 이런저런 이야기를 하는 것 자체가 인사와 관련돼서 제가 답변할 수 있는 범위를 넘어선다\"며 \"죄송하지만 지명되고 질문하시면 언제든 답변하겠다\"고 말했다.\n",
      "\n",
      "내년 총선과 관련해 'TK 물갈이론'에 대한 생각을 묻는 질문에는 \"대구 지역 물갈이론은 선거 때가 되면 늘 있는 이야기\"라며 \"이런 이야기가 나옴으로 인해 TK 정치권이 피폐해지고 정치력이 약해진다\"고 주장했다.\n",
      "\n",
      "그는 \"우리 당을 가장 많이 지지하는 지역의 정치인들이 이런 시달림을 받는 것이 과연 바람직한가. 대선이라든지 애를 많이 쓰고 있는 분들\"이라며 \"그 분들(TK 지역민)이 7, 80% 지지해서 우리가 어려운 선거 치르고 하는데, 상은 못 줄지언정 선거 때마다 이렇게 하는 것이 바람직한가. TK 지역 출신이기도 해 지역 의원 입장에서 말씀드렸다\"고 밝혔다.\n",
      "\n",
      "이날 간담회 모두발언에서 윤 원내대표는 21대 국회 남은 기간 의회정치 복원, 윤석열 정부 국정과제 입법, 국회의원 선거제 합의 등을 위해 노력하겠다고 강조했다.\n",
      "\n",
      "선거제 논의의 가장 중요한 원칙과 김기현 국민의힘 대표가 주장한 의원 정수 축소, 비례대표 축소에 대한 생각을 묻는 질문에 윤 원내대표는 \"20대 국회 말 민주당 때문에 여야 합의로 선거제를 처리하던 관행이 무너졌다. 우리 헌정사에서 정말 부끄러운 사건이었다\"며 \"20대 국회에서 일방적으로 처리된 선거법에 심각한 문제점이 있는 것은 잘 알 것\"이라고 말했다. 준연동형 비례대표제와 위성정당 설립을 겨냥한 발언으로 풀이된다.\n",
      "\n",
      "그는 \"그런 부분은 반드시 고쳐야 된다\"며 \"나머지 부분은 여야 간 입장차가 있으니까 협의를 통해서 조금씩 양보하고 합의하는 과정을 거칠 것\"이라고 밝혔다.\n",
      "Predicted label: 4\n",
      "True label: 5\n"
     ]
    }
   ],
   "source": [
    "# We make a funciton to randomly take a sample of the dataset and print the predicted and the true label\n",
    "def print_sample(sample_id):\n",
    "    # Get the sample from the dataframe\n",
    "    sample = predicted_dataframe.iloc[sample_id]\n",
    "    \n",
    "    # Print the text, the predicted label and the true label\n",
    "    print(f\"Text: {sample['text']}\")\n",
    "    print(f\"Predicted label: {sample['predicted_label']}\")\n",
    "    print(f\"True label: {sample['true_label']}\")\n",
    "\n",
    "# Print a sample\n",
    "print_sample(450)"
   ]
  },
  {
   "cell_type": "code",
   "execution_count": 40,
   "metadata": {},
   "outputs": [],
   "source": [
    "# Save the final dataframe containig the predictions and true labels\n",
    "predicted_dataframe.to_csv(\"political_orientation_dataset/predictions.csv\", index=False)"
   ]
  }
 ],
 "metadata": {
  "kernelspec": {
   "display_name": "venv",
   "language": "python",
   "name": "python3"
  },
  "language_info": {
   "codemirror_mode": {
    "name": "ipython",
    "version": 3
   },
   "file_extension": ".py",
   "mimetype": "text/x-python",
   "name": "python",
   "nbconvert_exporter": "python",
   "pygments_lexer": "ipython3",
   "version": "3.12.6"
  }
 },
 "nbformat": 4,
 "nbformat_minor": 2
}
